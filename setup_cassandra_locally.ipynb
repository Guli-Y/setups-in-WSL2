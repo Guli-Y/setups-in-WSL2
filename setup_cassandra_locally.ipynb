{
 "cells": [
  {
   "cell_type": "markdown",
   "id": "coupled-supply",
   "metadata": {},
   "source": [
    "## Start cassandra service\n",
    "\n",
    "> docker login    \n",
    "\n",
    "  enter username and password      \n",
    "\n",
    "\n",
    "> docker pull cassandra   \n",
    "\n",
    " pulling the cassandra docker image\n",
    "\n",
    "> docker run --name sparkify-cassandra -p 127.0.0.1:9042:9042 -d cassandra\n",
    "\n",
    "More about the cassandra docker image [here](https://hub.docker.com/_/cassandra?tab=description&page=1&ordering=last_updated)\n",
    "\n",
    "More about getting cqlsh for docker container [here](https://medium.com/@atul.anand.sh/cassandra-docker-python-84c34d644f07)"
   ]
  },
  {
   "cell_type": "markdown",
   "id": "creative-fancy",
   "metadata": {},
   "source": [
    "## Cassandra with python"
   ]
  },
  {
   "cell_type": "markdown",
   "id": "about-promotion",
   "metadata": {},
   "source": [
    "A python driver called **cassandra** will be used to run the Apache Cassandra queries"
   ]
  },
  {
   "cell_type": "code",
   "execution_count": 1,
   "id": "fifth-ending",
   "metadata": {},
   "outputs": [
    {
     "name": "stdout",
     "output_type": "stream",
     "text": [
      "Requirement already satisfied: cassandra-driver in /home/guli/.pyenv/versions/3.8.6/envs/udacity_learning/lib/python3.8/site-packages (3.25.0)\r\n",
      "Requirement already satisfied: six>=1.9 in /home/guli/.pyenv/versions/3.8.6/envs/udacity_learning/lib/python3.8/site-packages (from cassandra-driver) (1.15.0)\r\n",
      "Requirement already satisfied: geomet<0.3,>=0.1 in /home/guli/.pyenv/versions/3.8.6/envs/udacity_learning/lib/python3.8/site-packages (from cassandra-driver) (0.2.1.post1)\r\n",
      "Requirement already satisfied: click in /home/guli/.pyenv/versions/3.8.6/envs/udacity_learning/lib/python3.8/site-packages (from geomet<0.3,>=0.1->cassandra-driver) (7.1.2)\r\n"
     ]
    }
   ],
   "source": [
    "# ! pip install cassandra-driver"
   ]
  },
  {
   "cell_type": "code",
   "execution_count": 1,
   "id": "differential-exhaust",
   "metadata": {},
   "outputs": [],
   "source": [
    "# import the library\n",
    "import cassandra"
   ]
  },
  {
   "cell_type": "code",
   "execution_count": 3,
   "id": "union-jonathan",
   "metadata": {},
   "outputs": [],
   "source": [
    "# connect to the cluster\n",
    "from cassandra.cluster import Cluster\n",
    "\n",
    "cluster = Cluster() \n",
    "session = cluster.connect()"
   ]
  },
  {
   "cell_type": "code",
   "execution_count": 4,
   "id": "handed-childhood",
   "metadata": {},
   "outputs": [],
   "source": [
    "# create keyspace\n",
    "try:\n",
    "    session.execute(\"\"\"\n",
    "    CREATE KEYSPACE IF NOT EXISTS test \n",
    "    WITH REPLICATION = \n",
    "    { 'class' : 'SimpleStrategy', 'replication_factor' : 1 }\"\"\"\n",
    ")\n",
    "\n",
    "except Exception as e:\n",
    "    print(e)"
   ]
  },
  {
   "cell_type": "code",
   "execution_count": 5,
   "id": "corresponding-shuttle",
   "metadata": {},
   "outputs": [],
   "source": [
    "# connect to the keyspace\n",
    "try:\n",
    "    session.set_keyspace('test')\n",
    "except Exception as e:\n",
    "    print(e)"
   ]
  },
  {
   "cell_type": "markdown",
   "id": "hired-bolivia",
   "metadata": {},
   "source": [
    "! In NoSQL database, the tables are created based on the queries"
   ]
  },
  {
   "cell_type": "code",
   "execution_count": 6,
   "id": "moved-syria",
   "metadata": {},
   "outputs": [],
   "source": [
    "# create a table\n",
    "query = \"CREATE TABLE IF NOT EXISTS music_library \"\n",
    "query = query + \"(year int, artist_name text, album_name text, city text, PRIMARY KEY (year, artist_name, album_name))\"\n",
    "try:\n",
    "    session.execute(query)\n",
    "except Exception as e:\n",
    "    print(e)"
   ]
  },
  {
   "cell_type": "code",
   "execution_count": 7,
   "id": "immune-independence",
   "metadata": {},
   "outputs": [],
   "source": [
    "# insert data to the table\n",
    "query = \"INSERT INTO music_library (year, artist_name, album_name, city)\"\n",
    "query = query + \" VALUES (%s, %s, %s, %s)\"\n",
    "\n",
    "try:\n",
    "    session.execute(query, (1970, \"The Beatles\", \"Let it Be\", \"Liverpool\"))\n",
    "except Exception as e:\n",
    "    print(e)\n",
    "    \n",
    "try:\n",
    "    session.execute(query, (1965, \"The Beatles\", \"Rubber Soul\", \"Oxford\"))\n",
    "except Exception as e:\n",
    "    print(e)\n",
    "    \n",
    "try:\n",
    "    session.execute(query, (1965, \"The Who\", \"My Generation\", \"London\"))\n",
    "except Exception as e:\n",
    "    print(e)\n",
    "\n",
    "try:\n",
    "    session.execute(query, (1966, \"The Monkees\", \"The Monkees\", \"Los Angeles\"))\n",
    "except Exception as e:\n",
    "    print(e)\n",
    "\n",
    "try:\n",
    "    session.execute(query, (1970, \"The Carpenters\", \"Close To You\", \"San Diego\"))\n",
    "except Exception as e:\n",
    "    print(e)"
   ]
  },
  {
   "cell_type": "code",
   "execution_count": 8,
   "id": "median-essence",
   "metadata": {},
   "outputs": [
    {
     "name": "stdout",
     "output_type": "stream",
     "text": [
      "1965 The Beatles Rubber Soul Oxford\n",
      "1965 The Who My Generation London\n"
     ]
    }
   ],
   "source": [
    "# query the database\n",
    "query = \"SELECT * FROM music_library WHERE year=1965\"\n",
    "try:\n",
    "    rows = session.execute(query)\n",
    "except Exception as e:\n",
    "    print(e)\n",
    "    \n",
    "for row in rows:\n",
    "    print (row.year, row.artist_name, row.album_name, row.city)"
   ]
  },
  {
   "cell_type": "code",
   "execution_count": 9,
   "id": "regular-competition",
   "metadata": {},
   "outputs": [],
   "source": [
    "# drop the tables\n",
    "query = \"DROP TABLE music_library\"\n",
    "try:\n",
    "    session.execute(query)\n",
    "except Exception as e:\n",
    "    print(e)"
   ]
  },
  {
   "cell_type": "code",
   "execution_count": 10,
   "id": "crude-penguin",
   "metadata": {},
   "outputs": [
    {
     "name": "stdout",
     "output_type": "stream",
     "text": [
      "Table is dropped\n"
     ]
    }
   ],
   "source": [
    "# query the database\n",
    "query = \"SELECT * FROM music_library WHERE year=1965\"\n",
    "try:\n",
    "    session.execute(query)\n",
    "except Exception:\n",
    "    print('Table is dropped')"
   ]
  },
  {
   "cell_type": "code",
   "execution_count": 11,
   "id": "fitted-alexandria",
   "metadata": {},
   "outputs": [],
   "source": [
    "# close the connect\n",
    "session.shutdown()\n",
    "cluster.shutdown()"
   ]
  },
  {
   "cell_type": "code",
   "execution_count": null,
   "id": "sporting-russian",
   "metadata": {},
   "outputs": [],
   "source": []
  }
 ],
 "metadata": {
  "kernelspec": {
   "display_name": "Python 3",
   "language": "python",
   "name": "python3"
  },
  "language_info": {
   "codemirror_mode": {
    "name": "ipython",
    "version": 3
   },
   "file_extension": ".py",
   "mimetype": "text/x-python",
   "name": "python",
   "nbconvert_exporter": "python",
   "pygments_lexer": "ipython3",
   "version": "3.8.6"
  },
  "toc": {
   "base_numbering": 1,
   "nav_menu": {},
   "number_sections": true,
   "sideBar": true,
   "skip_h1_title": false,
   "title_cell": "Table of Contents",
   "title_sidebar": "Contents",
   "toc_cell": false,
   "toc_position": {},
   "toc_section_display": true,
   "toc_window_display": false
  }
 },
 "nbformat": 4,
 "nbformat_minor": 5
}
