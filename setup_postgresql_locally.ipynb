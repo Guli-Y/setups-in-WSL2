{
 "cells": [
  {
   "cell_type": "markdown",
   "id": "japanese-painting",
   "metadata": {},
   "source": [
    "## set up PostgreSQL in WSL2"
   ]
  },
  {
   "cell_type": "markdown",
   "id": "following-anthropology",
   "metadata": {},
   "source": [
    "Set up in WSL: \n",
    "- https://harshityadav95.medium.com/postgresql-in-windows-subsystem-for-linux-wsl-6dc751ac1ff3\n",
    "\n",
    "- https://wiki.postgresql.org/wiki/First_steps       \n",
    "\n",
    "Start postgresql service\n",
    "\n",
    "- sudo service postgresql start  \n",
    "\n",
    "Creating database, schema using psql (Psql is the interactive terminal for working with Postgres)\n",
    "\n",
    "- sudo -u postgres psql\n",
    "\n",
    "- postgres=# CREATE DATABASE test;\n",
    "\n",
    "- postgres=# CREATE SCHEMA test_schema;\n",
    "\n",
    "- postgres=# CREATE USER xxx PASSWORD 'yyy';\n",
    "\n",
    "- postgres=# GRANT ALL ON SCHEMA test_schema TO xxx;\n",
    "\n",
    "- postgres=# GRANT ALL ON ALL TABLES IN SCHEMA test_schema TO xxx;\n",
    "\n",
    "Creating database in terminal\n",
    "\n",
    "- sudo -u postgres createdb test_database  \n",
    "\n",
    "Creating database via psycopg2\n",
    "\n",
    "- postgres=# ALTER USER xxx WITH CREATEDB;\n",
    "\n",
    "- cur.execute(\"CREATE DATABASE test_database\")"
   ]
  },
  {
   "cell_type": "markdown",
   "id": "elegant-invention",
   "metadata": {},
   "source": [
    "## PostgreSQL with python"
   ]
  },
  {
   "cell_type": "markdown",
   "id": "persistent-monitoring",
   "metadata": {},
   "source": [
    "A python driver called psycopg2 will be used to run the PostgreSQL queries"
   ]
  },
  {
   "cell_type": "code",
   "execution_count": 1,
   "id": "threaded-table",
   "metadata": {},
   "outputs": [],
   "source": [
    "# !pip install psycopg2-binary"
   ]
  },
  {
   "cell_type": "code",
   "execution_count": 2,
   "id": "italian-exhaust",
   "metadata": {},
   "outputs": [],
   "source": [
    "import psycopg2"
   ]
  },
  {
   "cell_type": "code",
   "execution_count": 3,
   "id": "union-accordance",
   "metadata": {},
   "outputs": [],
   "source": [
    "# connect to the database\n",
    "try:\n",
    "    conn = psycopg2.connect('host=localhost dbname=test user=guli password=test_pass')\n",
    "except psycopg2.Error as error:\n",
    "    print('connection failed')\n",
    "    print(error)"
   ]
  },
  {
   "cell_type": "code",
   "execution_count": 4,
   "id": "decreased-norwegian",
   "metadata": {},
   "outputs": [],
   "source": [
    "# set autocommit\n",
    "conn.set_session(autocommit=True)"
   ]
  },
  {
   "cell_type": "code",
   "execution_count": 5,
   "id": "linear-pearl",
   "metadata": {},
   "outputs": [],
   "source": [
    "# get cursor\n",
    "try:\n",
    "    cur = conn.cursor()\n",
    "except psycopg2.Error as e:\n",
    "    print(\"couldn't get the cursor\")\n",
    "    print(e)"
   ]
  },
  {
   "cell_type": "code",
   "execution_count": 6,
   "id": "burning-netscape",
   "metadata": {},
   "outputs": [
    {
     "name": "stdout",
     "output_type": "stream",
     "text": [
      "relation \"olist.customer\" does not exist\n",
      "LINE 1: SELECT * FROM olist.customer\n",
      "                      ^\n",
      "\n"
     ]
    }
   ],
   "source": [
    "# execute a query\n",
    "try:\n",
    "    cur.execute(\"SELECT * FROM olist.customer\")\n",
    "except psycopg2.Error as e:\n",
    "    print(e)"
   ]
  },
  {
   "cell_type": "code",
   "execution_count": 7,
   "id": "compact-october",
   "metadata": {},
   "outputs": [],
   "source": [
    "# go to terminal give createdb permission to user guli"
   ]
  },
  {
   "cell_type": "code",
   "execution_count": 8,
   "id": "hispanic-lawrence",
   "metadata": {},
   "outputs": [],
   "source": [
    "# create olist database\n",
    "try:\n",
    "    cur.execute(\"CREATE DATABASE olist_database\")\n",
    "except psycopg2.Error as e:\n",
    "    print(e)"
   ]
  },
  {
   "cell_type": "code",
   "execution_count": 9,
   "id": "reasonable-section",
   "metadata": {},
   "outputs": [],
   "source": [
    "# close the connection to the test database and connect to the olist database\n",
    "try:\n",
    "    conn.close()\n",
    "except psycopg2.Error as e:\n",
    "    print(e)\n",
    "\n",
    "try:\n",
    "    conn = psycopg2.connect(\"host=localhost dbname=olist_database user=guli password=test_pass\")\n",
    "except psycopg2.Error as e:\n",
    "    print(e)\n",
    "    \n",
    "# get cursor to the olist database    \n",
    "try:\n",
    "    cur = conn.cursor()\n",
    "except psycopg2.Error as e:\n",
    "    print(e)\n",
    "    \n",
    "# set autocommit\n",
    "conn.set_session(autocommit=True)"
   ]
  },
  {
   "cell_type": "code",
   "execution_count": 13,
   "id": "prescribed-overview",
   "metadata": {},
   "outputs": [],
   "source": [
    "# create a customer table\n",
    "try:\n",
    "    cur.execute(\"CREATE SCHEMA IF NOT EXISTS olist;\")\n",
    "except psycopg2.Error as e:\n",
    "    print('Issue with creating schema')\n",
    "    print(e)"
   ]
  },
  {
   "cell_type": "code",
   "execution_count": 14,
   "id": "impressed-consideration",
   "metadata": {},
   "outputs": [],
   "source": [
    "# create a customer table\n",
    "try:\n",
    "    cur.execute(\"CREATE TABLE IF NOT EXISTS olist.customer (id int, name varchar, email varchar);\")\n",
    "except psycopg2.Error as e:\n",
    "    print('Issue with creating table')\n",
    "    print(e)"
   ]
  },
  {
   "cell_type": "code",
   "execution_count": 15,
   "id": "stuck-recycling",
   "metadata": {},
   "outputs": [],
   "source": [
    "# insert one row into the table\n",
    "try: \n",
    "    cur.execute(\"INSERT INTO olist.customer (id, name, email) VALUES(%s, %s, %s);\", (0, \"Alice\", \"alice@hmail.com\"))\n",
    "except psycopg2.Error as e:\n",
    "    print('Issue with insertion')\n",
    "    print(e)"
   ]
  },
  {
   "cell_type": "code",
   "execution_count": 16,
   "id": "finnish-interview",
   "metadata": {},
   "outputs": [
    {
     "data": {
      "text/plain": [
       "[(0, 'Alice', 'alice@hmail.com')]"
      ]
     },
     "execution_count": 16,
     "metadata": {},
     "output_type": "execute_result"
    }
   ],
   "source": [
    "# check out the customer table\n",
    "try:\n",
    "    cur.execute(\"SELECT * FROM olist.customer;\")\n",
    "except psycopg2.Error as e:\n",
    "    print(\"Issue with SELECT query\")\n",
    "    print(e)\n",
    "\n",
    "cur.fetchall()"
   ]
  },
  {
   "cell_type": "code",
   "execution_count": 17,
   "id": "measured-samuel",
   "metadata": {},
   "outputs": [],
   "source": [
    "# drop the table\n",
    "try: \n",
    "    cur.execute(\"DROP TABLE olist.customer;\")\n",
    "except psycopg2.Error as e:\n",
    "    print(\"Issue with DROP query\")\n",
    "    print(e)"
   ]
  },
  {
   "cell_type": "code",
   "execution_count": 18,
   "id": "unnecessary-customer",
   "metadata": {},
   "outputs": [
    {
     "name": "stdout",
     "output_type": "stream",
     "text": [
      "relation \"olist.customer\" does not exist\n",
      "LINE 1: SELECT * FROM olist.customer;\n",
      "                      ^\n",
      "\n"
     ]
    }
   ],
   "source": [
    "# validate the table is dropped\n",
    "try:\n",
    "    cur.execute(\"SELECT * FROM olist.customer;\")\n",
    "except psycopg2.Error as e:\n",
    "    print(e)"
   ]
  },
  {
   "cell_type": "code",
   "execution_count": 19,
   "id": "fantastic-willow",
   "metadata": {},
   "outputs": [],
   "source": [
    "# close the connection\n",
    "cur.close()\n",
    "conn.close()"
   ]
  }
 ],
 "metadata": {
  "kernelspec": {
   "display_name": "Python 3",
   "language": "python",
   "name": "python3"
  },
  "language_info": {
   "codemirror_mode": {
    "name": "ipython",
    "version": 3
   },
   "file_extension": ".py",
   "mimetype": "text/x-python",
   "name": "python",
   "nbconvert_exporter": "python",
   "pygments_lexer": "ipython3",
   "version": "3.8.6"
  }
 },
 "nbformat": 4,
 "nbformat_minor": 5
}
